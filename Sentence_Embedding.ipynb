{
 "cells": [
  {
   "cell_type": "code",
   "execution_count": 1,
   "metadata": {
    "colab": {
     "base_uri": "https://localhost:8080/",
     "height": 122
    },
    "colab_type": "code",
    "executionInfo": {
     "elapsed": 20623,
     "status": "ok",
     "timestamp": 1589584819642,
     "user": {
      "displayName": "Parthvi Shah",
      "photoUrl": "https://lh3.googleusercontent.com/a-/AOh14Gj14forhnYAb8tD0SHMMufGgXmEIpTA6BXAnPZ5Uvg=s64",
      "userId": "12920190590086167612"
     },
     "user_tz": 240
    },
    "id": "1IJI3jL1r9k6",
    "outputId": "eb300f85-0a5e-4ff8-db9b-903ad0ad1449"
   },
   "outputs": [
    {
     "name": "stdout",
     "output_type": "stream",
     "text": [
      "Go to this URL in a browser: https://accounts.google.com/o/oauth2/auth?client_id=947318989803-6bn6qk8qdgf4n4g3pfee6491hc0brc4i.apps.googleusercontent.com&redirect_uri=urn%3aietf%3awg%3aoauth%3a2.0%3aoob&response_type=code&scope=email%20https%3a%2f%2fwww.googleapis.com%2fauth%2fdocs.test%20https%3a%2f%2fwww.googleapis.com%2fauth%2fdrive%20https%3a%2f%2fwww.googleapis.com%2fauth%2fdrive.photos.readonly%20https%3a%2f%2fwww.googleapis.com%2fauth%2fpeopleapi.readonly\n",
      "\n",
      "Enter your authorization code:\n",
      "··········\n",
      "Mounted at /content/drive\n"
     ]
    }
   ],
   "source": [
    "from google.colab import drive\n",
    "drive.mount('/content/drive')"
   ]
  },
  {
   "cell_type": "code",
   "execution_count": 0,
   "metadata": {
    "colab": {},
    "colab_type": "code",
    "id": "nLtnI7rh0kHV"
   },
   "outputs": [],
   "source": [
    "import pandas as pd\n",
    "df2 = pd.read_csv('/content/drive/My Drive/Data/full_text.txt')"
   ]
  },
  {
   "cell_type": "code",
   "execution_count": 4,
   "metadata": {
    "colab": {
     "base_uri": "https://localhost:8080/",
     "height": 623
    },
    "colab_type": "code",
    "executionInfo": {
     "elapsed": 1384,
     "status": "ok",
     "timestamp": 1589584840495,
     "user": {
      "displayName": "Parthvi Shah",
      "photoUrl": "https://lh3.googleusercontent.com/a-/AOh14Gj14forhnYAb8tD0SHMMufGgXmEIpTA6BXAnPZ5Uvg=s64",
      "userId": "12920190590086167612"
     },
     "user_tz": 240
    },
    "id": "5ZXVp22M0uN3",
    "outputId": "9cca4a1a-9c21-4a2a-cb08-c1dcb64bc098"
   },
   "outputs": [
    {
     "data": {
      "text/html": [
       "<div>\n",
       "<style scoped>\n",
       "    .dataframe tbody tr th:only-of-type {\n",
       "        vertical-align: middle;\n",
       "    }\n",
       "\n",
       "    .dataframe tbody tr th {\n",
       "        vertical-align: top;\n",
       "    }\n",
       "\n",
       "    .dataframe thead th {\n",
       "        text-align: right;\n",
       "    }\n",
       "</style>\n",
       "<table border=\"1\" class=\"dataframe\">\n",
       "  <thead>\n",
       "    <tr style=\"text-align: right;\">\n",
       "      <th></th>\n",
       "      <th>index</th>\n",
       "      <th>gold</th>\n",
       "      <th>convs2s</th>\n",
       "      <th>oracle</th>\n",
       "      <th>lead</th>\n",
       "      <th>ptgen</th>\n",
       "      <th>topic_convs2s</th>\n",
       "    </tr>\n",
       "  </thead>\n",
       "  <tbody>\n",
       "    <tr>\n",
       "      <th>8731</th>\n",
       "      <td>10001244</td>\n",
       "      <td>n-dubz have told newsbeat they are shocked to ...</td>\n",
       "      <td>london trio and we got are among the nominees ...</td>\n",
       "      <td>n-dubz said they were looking forward to perfo...</td>\n",
       "      <td>the london trio are up for best uk act and bes...</td>\n",
       "      <td>the scottish fans have won the best song prize...</td>\n",
       "      <td>one direction have been nominated for this yea...</td>\n",
       "    </tr>\n",
       "    <tr>\n",
       "      <th>6455</th>\n",
       "      <td>10138849</td>\n",
       "      <td>`` maverick '' is a word that seems to follow ...</td>\n",
       "      <td>dr robert venter , who has died at the age of ...</td>\n",
       "      <td>and he is a very wealthy user of lear jets and...</td>\n",
       "      <td>the biologist and entrepreneur turned the effo...</td>\n",
       "      <td>dr dr [UNK] venter looks set to become a docto...</td>\n",
       "      <td>scientists in vietnam have used the nobel peac...</td>\n",
       "    </tr>\n",
       "    <tr>\n",
       "      <th>6223</th>\n",
       "      <td>10145459</td>\n",
       "      <td>australia has expelled an israeli diplomat say...</td>\n",
       "      <td>israel has said it is `` disappointed '' by is...</td>\n",
       "      <td>at least four forged australian passports were...</td>\n",
       "      <td>australia 's foreign minister said these were ...</td>\n",
       "      <td>australia has condemned the killing of israeli...</td>\n",
       "      <td>israel has refused to apologise to the israeli...</td>\n",
       "    </tr>\n",
       "    <tr>\n",
       "      <th>3389</th>\n",
       "      <td>10169745</td>\n",
       "      <td>bbc world affairs correspondent peter biles ha...</td>\n",
       "      <td>one of the world 's most famous sailors , for ...</td>\n",
       "      <td>for 70 years , my father has lived with the sh...</td>\n",
       "      <td>for 70 years , my father has lived with the sh...</td>\n",
       "      <td>on the surface of dunkirk a day , the hebe of ...</td>\n",
       "      <td>the world 's oldest ship , the ship , has died...</td>\n",
       "    </tr>\n",
       "    <tr>\n",
       "      <th>10784</th>\n",
       "      <td>10201300</td>\n",
       "      <td>a maoist leader in india has said that they wi...</td>\n",
       "      <td>the chief minister of india 's tamil nadu stat...</td>\n",
       "      <td>report said other services were being reschedu...</td>\n",
       "      <td>comrade akaash 's statement comes after the re...</td>\n",
       "      <td>india 's railways has said it will not investi...</td>\n",
       "      <td>the chief minister of the indian state of utta...</td>\n",
       "    </tr>\n",
       "    <tr>\n",
       "      <th>...</th>\n",
       "      <td>...</td>\n",
       "      <td>...</td>\n",
       "      <td>...</td>\n",
       "      <td>...</td>\n",
       "      <td>...</td>\n",
       "      <td>...</td>\n",
       "      <td>...</td>\n",
       "    </tr>\n",
       "    <tr>\n",
       "      <th>5578</th>\n",
       "      <td>41088404</td>\n",
       "      <td>theresa may has said china must do more to hel...</td>\n",
       "      <td>japanese prime minister shinzo abe has said th...</td>\n",
       "      <td>japan is preoccupied with the issue of north k...</td>\n",
       "      <td>on a visit to japan , the prime minister welco...</td>\n",
       "      <td>north korea has said it is ready to invest $ 1...</td>\n",
       "      <td>japanese prime minister theresa may has said t...</td>\n",
       "    </tr>\n",
       "    <tr>\n",
       "      <th>7145</th>\n",
       "      <td>41089216</td>\n",
       "      <td>england fly-half owen farrell has signed a new...</td>\n",
       "      <td>saracens fly-half owen farrell has signed a ne...</td>\n",
       "      <td>farrell has 52 caps for england and four for t...</td>\n",
       "      <td>the 25-year-old , who has helped sarries to th...</td>\n",
       "      <td>saracens forward owen farrell has signed a new...</td>\n",
       "      <td>saracens and england fly-half owen farrell has...</td>\n",
       "    </tr>\n",
       "    <tr>\n",
       "      <th>3166</th>\n",
       "      <td>41091477</td>\n",
       "      <td>prince william and prince harry have visited a...</td>\n",
       "      <td>the duke and duchess of cambridge have visited...</td>\n",
       "      <td>members of the public have been leaving tribut...</td>\n",
       "      <td>the white garden , at kensington palace , was ...</td>\n",
       "      <td>a memorial to remember the duchess of cambridg...</td>\n",
       "      <td>the duke and duchess of cambridge have visited...</td>\n",
       "    </tr>\n",
       "    <tr>\n",
       "      <th>1275</th>\n",
       "      <td>41094254</td>\n",
       "      <td>a judge in the case of a five-year-old christi...</td>\n",
       "      <td>the number of children in foster care in engla...</td>\n",
       "      <td>the local authority involved , the london boro...</td>\n",
       "      <td>the local authority involved , the london boro...</td>\n",
       "      <td>the family of a vulnerable child in tower haml...</td>\n",
       "      <td>the number of foster children in foster care i...</td>\n",
       "    </tr>\n",
       "    <tr>\n",
       "      <th>3546</th>\n",
       "      <td>41141109</td>\n",
       "      <td>mercedes ' lewis hamilton took the outright ch...</td>\n",
       "      <td>lewis hamilton beat mercedes team-mate lewis h...</td>\n",
       "      <td>hamilton 's victory was among the most straigh...</td>\n",
       "      <td>a day after breaking the all-time record for p...</td>\n",
       "      <td>nico vettel set the pace in second practice at...</td>\n",
       "      <td>ferrari 's sebastian vettel set the pace in se...</td>\n",
       "    </tr>\n",
       "  </tbody>\n",
       "</table>\n",
       "<p>11334 rows × 7 columns</p>\n",
       "</div>"
      ],
      "text/plain": [
       "          index  ...                                      topic_convs2s\n",
       "8731   10001244  ...  one direction have been nominated for this yea...\n",
       "6455   10138849  ...  scientists in vietnam have used the nobel peac...\n",
       "6223   10145459  ...  israel has refused to apologise to the israeli...\n",
       "3389   10169745  ...  the world 's oldest ship , the ship , has died...\n",
       "10784  10201300  ...  the chief minister of the indian state of utta...\n",
       "...         ...  ...                                                ...\n",
       "5578   41088404  ...  japanese prime minister theresa may has said t...\n",
       "7145   41089216  ...  saracens and england fly-half owen farrell has...\n",
       "3166   41091477  ...  the duke and duchess of cambridge have visited...\n",
       "1275   41094254  ...  the number of foster children in foster care i...\n",
       "3546   41141109  ...  ferrari 's sebastian vettel set the pace in se...\n",
       "\n",
       "[11334 rows x 7 columns]"
      ]
     },
     "execution_count": 4,
     "metadata": {
      "tags": []
     },
     "output_type": "execute_result"
    }
   ],
   "source": [
    "model_preds = pd.read_csv('/content/drive/My Drive/Data/model_predictions.txt')\n",
    "model_preds.sort_values('index')"
   ]
  },
  {
   "cell_type": "code",
   "execution_count": 0,
   "metadata": {
    "colab": {},
    "colab_type": "code",
    "id": "7szXZCRZkJjj"
   },
   "outputs": [],
   "source": []
  },
  {
   "cell_type": "code",
   "execution_count": 0,
   "metadata": {
    "colab": {},
    "colab_type": "code",
    "id": "mpmsyFWXtink"
   },
   "outputs": [],
   "source": [
    "df2list = df2.text.to_list()"
   ]
  },
  {
   "cell_type": "code",
   "execution_count": 6,
   "metadata": {
    "colab": {
     "base_uri": "https://localhost:8080/",
     "height": 54
    },
    "colab_type": "code",
    "executionInfo": {
     "elapsed": 348,
     "status": "ok",
     "timestamp": 1589584843389,
     "user": {
      "displayName": "Parthvi Shah",
      "photoUrl": "https://lh3.googleusercontent.com/a-/AOh14Gj14forhnYAb8tD0SHMMufGgXmEIpTA6BXAnPZ5Uvg=s64",
      "userId": "12920190590086167612"
     },
     "user_tz": 240
    },
    "id": "WDyu1syuwhXo",
    "outputId": "76fe5aea-685b-4ccd-f221-bcf6082aa6ad"
   },
   "outputs": [
    {
     "data": {
      "text/plain": [
       "\"The London trio are up for best UK act and best album , as well as getting two nominations in the best song category .\\n`` We got told like this morning ` Oh I think you 're nominated ' '' , said Dappy .\\n`` And I was like ` Oh yeah , which one ? '\\nAnd now we 've got nominated for four awards .\\nI mean , wow ! ''\\nBandmate Fazer added : `` We thought it 's best of us to come down and mingle with everyone and say hello to the cameras .\\nAnd now we find we 've got four nominations . ''\\nThe band have two shots at the best song prize , getting the nod for their Tynchy Stryder collaboration Number One , and single Strong Again .\\nTheir album Uncle B will also go up against records by the likes of Beyonce and Kanye West .\\nN-Dubz picked up the best newcomer Mobo in 2007 , but female member Tulisa said they would n't be too disappointed if they did n't win this time around .\\n`` At the end of the day we 're grateful to be where we are in our careers .\\n`` If it do n't happen then it do n't happen - live to fight another day and keep on making albums and hits for the fans . ''\\nDappy also revealed they could be performing live several times on the night .\\nThe group will be doing Number One and also a possible rendition of the War Child single , I Got Soul .\\nThe charity song is a re-working of The Killers ' All These Things That I 've Done and is set to feature artists like Chipmunk , Ironik and Pixie Lott .\\nThis year 's Mobos will be held outside of London for the first time , in Glasgow on 30 September .\\nN-Dubz said they were looking forward to performing for their Scottish fans and boasted about their recent shows north of the border .\\n`` We just done Edinburgh the other day , '' said Dappy .\\n`` We smashed up an N-Dubz show over there .\\nWe done Aberdeen about three or four months ago - we smashed up that show over there !\\nEverywhere we go we smash it up ! ''\\n\""
      ]
     },
     "execution_count": 6,
     "metadata": {
      "tags": []
     },
     "output_type": "execute_result"
    }
   ],
   "source": [
    "df2list[0]"
   ]
  },
  {
   "cell_type": "code",
   "execution_count": 7,
   "metadata": {
    "colab": {
     "base_uri": "https://localhost:8080/",
     "height": 768
    },
    "colab_type": "code",
    "executionInfo": {
     "elapsed": 7906,
     "status": "ok",
     "timestamp": 1589584852392,
     "user": {
      "displayName": "Parthvi Shah",
      "photoUrl": "https://lh3.googleusercontent.com/a-/AOh14Gj14forhnYAb8tD0SHMMufGgXmEIpTA6BXAnPZ5Uvg=s64",
      "userId": "12920190590086167612"
     },
     "user_tz": 240
    },
    "id": "mCgv9zKos-VM",
    "outputId": "7dd2f54c-a59b-4cf3-ce8c-edea3704fa6b"
   },
   "outputs": [
    {
     "name": "stdout",
     "output_type": "stream",
     "text": [
      "Collecting sentence-transformers\n",
      "\u001b[?25l  Downloading https://files.pythonhosted.org/packages/b9/46/b7d6c37d92d1bd65319220beabe4df845434930e3f30e42d3cfaecb74dc4/sentence-transformers-0.2.6.1.tar.gz (55kB)\n",
      "\u001b[K     |████████████████████████████████| 61kB 2.3MB/s \n",
      "\u001b[?25hCollecting transformers>=2.8.0\n",
      "\u001b[?25l  Downloading https://files.pythonhosted.org/packages/22/97/7db72a0beef1825f82188a4b923e62a146271ac2ced7928baa4d47ef2467/transformers-2.9.1-py3-none-any.whl (641kB)\n",
      "\u001b[K     |████████████████████████████████| 645kB 8.5MB/s \n",
      "\u001b[?25hRequirement already satisfied, skipping upgrade: tqdm in /usr/local/lib/python3.6/dist-packages (from sentence-transformers) (4.41.1)\n",
      "Requirement already satisfied, skipping upgrade: torch>=1.0.1 in /usr/local/lib/python3.6/dist-packages (from sentence-transformers) (1.5.0+cu101)\n",
      "Requirement already satisfied, skipping upgrade: numpy in /usr/local/lib/python3.6/dist-packages (from sentence-transformers) (1.18.4)\n",
      "Requirement already satisfied, skipping upgrade: scikit-learn in /usr/local/lib/python3.6/dist-packages (from sentence-transformers) (0.22.2.post1)\n",
      "Requirement already satisfied, skipping upgrade: scipy in /usr/local/lib/python3.6/dist-packages (from sentence-transformers) (1.4.1)\n",
      "Requirement already satisfied, skipping upgrade: nltk in /usr/local/lib/python3.6/dist-packages (from sentence-transformers) (3.2.5)\n",
      "Collecting tokenizers==0.7.0\n",
      "\u001b[?25l  Downloading https://files.pythonhosted.org/packages/14/e5/a26eb4716523808bb0a799fcfdceb6ebf77a18169d9591b2f46a9adb87d9/tokenizers-0.7.0-cp36-cp36m-manylinux1_x86_64.whl (3.8MB)\n",
      "\u001b[K     |████████████████████████████████| 3.8MB 16.6MB/s \n",
      "\u001b[?25hRequirement already satisfied, skipping upgrade: filelock in /usr/local/lib/python3.6/dist-packages (from transformers>=2.8.0->sentence-transformers) (3.0.12)\n",
      "Collecting sentencepiece\n",
      "\u001b[?25l  Downloading https://files.pythonhosted.org/packages/3b/88/49e772d686088e1278766ad68a463513642a2a877487decbd691dec02955/sentencepiece-0.1.90-cp36-cp36m-manylinux1_x86_64.whl (1.1MB)\n",
      "\u001b[K     |████████████████████████████████| 1.1MB 46.5MB/s \n",
      "\u001b[?25hCollecting sacremoses\n",
      "\u001b[?25l  Downloading https://files.pythonhosted.org/packages/7d/34/09d19aff26edcc8eb2a01bed8e98f13a1537005d31e95233fd48216eed10/sacremoses-0.0.43.tar.gz (883kB)\n",
      "\u001b[K     |████████████████████████████████| 890kB 57.5MB/s \n",
      "\u001b[?25hRequirement already satisfied, skipping upgrade: requests in /usr/local/lib/python3.6/dist-packages (from transformers>=2.8.0->sentence-transformers) (2.23.0)\n",
      "Requirement already satisfied, skipping upgrade: regex!=2019.12.17 in /usr/local/lib/python3.6/dist-packages (from transformers>=2.8.0->sentence-transformers) (2019.12.20)\n",
      "Requirement already satisfied, skipping upgrade: dataclasses; python_version < \"3.7\" in /usr/local/lib/python3.6/dist-packages (from transformers>=2.8.0->sentence-transformers) (0.7)\n",
      "Requirement already satisfied, skipping upgrade: future in /usr/local/lib/python3.6/dist-packages (from torch>=1.0.1->sentence-transformers) (0.16.0)\n",
      "Requirement already satisfied, skipping upgrade: joblib>=0.11 in /usr/local/lib/python3.6/dist-packages (from scikit-learn->sentence-transformers) (0.14.1)\n",
      "Requirement already satisfied, skipping upgrade: six in /usr/local/lib/python3.6/dist-packages (from nltk->sentence-transformers) (1.12.0)\n",
      "Requirement already satisfied, skipping upgrade: click in /usr/local/lib/python3.6/dist-packages (from sacremoses->transformers>=2.8.0->sentence-transformers) (7.1.2)\n",
      "Requirement already satisfied, skipping upgrade: certifi>=2017.4.17 in /usr/local/lib/python3.6/dist-packages (from requests->transformers>=2.8.0->sentence-transformers) (2020.4.5.1)\n",
      "Requirement already satisfied, skipping upgrade: chardet<4,>=3.0.2 in /usr/local/lib/python3.6/dist-packages (from requests->transformers>=2.8.0->sentence-transformers) (3.0.4)\n",
      "Requirement already satisfied, skipping upgrade: urllib3!=1.25.0,!=1.25.1,<1.26,>=1.21.1 in /usr/local/lib/python3.6/dist-packages (from requests->transformers>=2.8.0->sentence-transformers) (1.24.3)\n",
      "Requirement already satisfied, skipping upgrade: idna<3,>=2.5 in /usr/local/lib/python3.6/dist-packages (from requests->transformers>=2.8.0->sentence-transformers) (2.9)\n",
      "Building wheels for collected packages: sentence-transformers, sacremoses\n",
      "  Building wheel for sentence-transformers (setup.py) ... \u001b[?25l\u001b[?25hdone\n",
      "  Created wheel for sentence-transformers: filename=sentence_transformers-0.2.6.1-cp36-none-any.whl size=74031 sha256=18db97fe6600e5eb2b71cfe5efcd81fa43a8f63d6ebbbdbe0c91c1714d064fc8\n",
      "  Stored in directory: /root/.cache/pip/wheels/d7/fa/17/2b081a8cd8b0a86753fb0e9826b3cc19f0207062c0b2da7008\n",
      "  Building wheel for sacremoses (setup.py) ... \u001b[?25l\u001b[?25hdone\n",
      "  Created wheel for sacremoses: filename=sacremoses-0.0.43-cp36-none-any.whl size=893260 sha256=0aba317fc1e6f9a45122363c0a0a543b33aa78d420d4db15d597e86ecdebc531\n",
      "  Stored in directory: /root/.cache/pip/wheels/29/3c/fd/7ce5c3f0666dab31a50123635e6fb5e19ceb42ce38d4e58f45\n",
      "Successfully built sentence-transformers sacremoses\n",
      "Installing collected packages: tokenizers, sentencepiece, sacremoses, transformers, sentence-transformers\n",
      "Successfully installed sacremoses-0.0.43 sentence-transformers-0.2.6.1 sentencepiece-0.1.90 tokenizers-0.7.0 transformers-2.9.1\n"
     ]
    }
   ],
   "source": [
    "!pip install -U sentence-transformers\n"
   ]
  },
  {
   "cell_type": "code",
   "execution_count": 8,
   "metadata": {
    "colab": {
     "base_uri": "https://localhost:8080/",
     "height": 34
    },
    "colab_type": "code",
    "executionInfo": {
     "elapsed": 32953,
     "status": "ok",
     "timestamp": 1589584886230,
     "user": {
      "displayName": "Parthvi Shah",
      "photoUrl": "https://lh3.googleusercontent.com/a-/AOh14Gj14forhnYAb8tD0SHMMufGgXmEIpTA6BXAnPZ5Uvg=s64",
      "userId": "12920190590086167612"
     },
     "user_tz": 240
    },
    "id": "g-yJRBSXtQUt",
    "outputId": "192c3177-fb23-47ae-ca79-8099f0112f21"
   },
   "outputs": [
    {
     "name": "stderr",
     "output_type": "stream",
     "text": [
      "100%|██████████| 405M/405M [00:20<00:00, 19.5MB/s]\n"
     ]
    }
   ],
   "source": [
    "from sentence_transformers import SentenceTransformer\n",
    "model = SentenceTransformer('bert-base-nli-mean-tokens', max_seq_length = 800)"
   ]
  },
  {
   "cell_type": "code",
   "execution_count": 0,
   "metadata": {
    "colab": {},
    "colab_type": "code",
    "id": "VblG434jXe4C"
   },
   "outputs": [],
   "source": [
    "sentence_embeddings = model.encode(df2list)"
   ]
  },
  {
   "cell_type": "code",
   "execution_count": 0,
   "metadata": {
    "colab": {
     "base_uri": "https://localhost:8080/",
     "height": 1000
    },
    "colab_type": "code",
    "executionInfo": {
     "elapsed": 465,
     "status": "ok",
     "timestamp": 1588694037856,
     "user": {
      "displayName": "Parthvi Shah",
      "photoUrl": "https://lh3.googleusercontent.com/a-/AOh14Gj14forhnYAb8tD0SHMMufGgXmEIpTA6BXAnPZ5Uvg=s64",
      "userId": "12920190590086167612"
     },
     "user_tz": 240
    },
    "id": "1LoQpbmMio57",
    "outputId": "a4200e1c-5592-4100-acc2-67712ecf3e7e"
   },
   "outputs": [
    {
     "name": "stdout",
     "output_type": "stream",
     "text": [
      "Sentence: The London trio are up for best UK act and best album , as well as getting two nominations in the best song category .\n",
      "`` We got told like this morning ` Oh I think you 're nominated ' '' , said Dappy .\n",
      "`` And I was like ` Oh yeah , which one ? '\n",
      "And now we 've got nominated for four awards .\n",
      "I mean , wow ! ''\n",
      "Bandmate Fazer added : `` We thought it 's best of us to come down and mingle with everyone and say hello to the cameras .\n",
      "And now we find we 've got four nominations . ''\n",
      "The band have two shots at the best song prize , getting the nod for their Tynchy Stryder collaboration Number One , and single Strong Again .\n",
      "Their album Uncle B will also go up against records by the likes of Beyonce and Kanye West .\n",
      "N-Dubz picked up the best newcomer Mobo in 2007 , but female member Tulisa said they would n't be too disappointed if they did n't win this time around .\n",
      "`` At the end of the day we 're grateful to be where we are in our careers .\n",
      "`` If it do n't happen then it do n't happen - live to fight another day and keep on making albums and hits for the fans . ''\n",
      "Dappy also revealed they could be performing live several times on the night .\n",
      "The group will be doing Number One and also a possible rendition of the War Child single , I Got Soul .\n",
      "The charity song is a re-working of The Killers ' All These Things That I 've Done and is set to feature artists like Chipmunk , Ironik and Pixie Lott .\n",
      "This year 's Mobos will be held outside of London for the first time , in Glasgow on 30 September .\n",
      "N-Dubz said they were looking forward to performing for their Scottish fans and boasted about their recent shows north of the border .\n",
      "`` We just done Edinburgh the other day , '' said Dappy .\n",
      "`` We smashed up an N-Dubz show over there .\n",
      "We done Aberdeen about three or four months ago - we smashed up that show over there !\n",
      "Everywhere we go we smash it up ! ''\n",
      "\n",
      "Embedding: [-1.70456335e-01  1.17136002e+00  1.25976241e+00 -3.49129349e-01\n",
      " -5.59076011e-01 -6.66664243e-01  8.57612967e-01 -1.89061597e-01\n",
      " -3.01911915e-03  3.89481336e-01  1.68308333e-01  9.55304205e-01\n",
      "  6.29280508e-01  3.73455048e-01 -1.11567557e+00  9.30601478e-01\n",
      " -1.83928192e-01 -1.01337336e-01 -1.88596457e-01 -3.81882697e-01\n",
      "  2.15971977e-01 -3.42547208e-01  2.16453761e-01 -3.81739601e-03\n",
      "  1.28886378e+00  1.09037411e+00 -3.92858714e-01  5.41742854e-02\n",
      "  4.56132919e-01  1.87388226e-01  2.71019638e-01  4.79159653e-01\n",
      " -5.66693962e-01 -3.77531767e-01 -5.62979698e-01  4.36255932e-01\n",
      "  2.99058944e-01 -2.09565815e-02  3.47341746e-01 -1.99638247e-01\n",
      "  5.22924423e-01 -3.31639171e-01 -1.31694842e-02 -3.39082837e-01\n",
      " -1.42144990e+00 -5.81485391e-01 -7.70625249e-02  9.61425960e-01\n",
      "  6.58001184e-01 -8.98526847e-01 -1.24103166e-01  9.24842712e-03\n",
      " -8.33332896e-01 -4.57403362e-01 -5.85393369e-01 -5.41878879e-01\n",
      " -1.37695745e-01 -6.43214703e-01 -8.92668188e-01 -6.42860889e-01\n",
      " -1.47272456e+00  9.75339264e-02 -6.76050127e-01 -3.29256564e-01\n",
      "  1.77658461e-02 -2.66443081e-02  3.57944936e-01  6.48705542e-01\n",
      " -7.54494667e-01 -3.52582335e-01 -4.99034166e-01 -2.48280510e-01\n",
      "  7.17171431e-02 -5.57472706e-01 -4.53067534e-02  6.77652359e-02\n",
      "  4.12348323e-02 -2.40977481e-01  1.10805178e+00  1.01880884e+00\n",
      "  4.93538558e-01 -2.26209879e-01 -2.31551707e-01  4.58131939e-01\n",
      " -3.84624079e-02  2.54799515e-01  1.86189532e-01 -8.86694789e-01\n",
      "  2.57310390e-01  6.75687790e-01  3.64805758e-01 -5.77559829e-01\n",
      "  1.32404447e+00 -1.82508141e-01 -9.33061302e-01 -4.09886330e-01\n",
      "  1.00693323e-01 -1.01789820e+00 -4.79020685e-01 -1.37053937e-01\n",
      "  5.50992861e-02 -3.96825075e-01 -3.31854016e-01  3.12445670e-01\n",
      " -5.43893635e-01  2.68868446e-01 -2.39529699e-01 -1.02851391e+00\n",
      " -1.05420418e-01  1.89755842e-01  1.17458403e+00 -5.23348749e-01\n",
      " -6.62774742e-01  2.76699930e-01  6.02474451e-01 -9.81754601e-01\n",
      " -9.77740109e-01  6.33293569e-01 -2.17767134e-02  2.73366392e-01\n",
      "  7.93746769e-01 -4.34435159e-02 -5.86929798e-01 -3.14657204e-02\n",
      "  3.59440118e-01 -1.69528909e-02  1.18122689e-01  9.10280049e-01\n",
      " -3.16781074e-01  8.29022937e-03 -1.34455010e-01  5.48023462e-01\n",
      "  6.40620589e-01 -1.41183019e-01  2.78975572e-02  6.33963704e-01\n",
      "  3.80491763e-02 -2.71837205e-01 -4.57520485e-01 -1.46897927e-01\n",
      " -6.99306233e-03 -7.00604200e-01  3.47114801e-01 -6.52771831e-01\n",
      "  4.39300001e-01  4.86489087e-02 -6.01151064e-02  2.71719526e-02\n",
      "  4.41433452e-02 -2.69283861e-01  5.17906249e-01  1.82797536e-02\n",
      " -1.31894898e+00  5.28349653e-02 -3.08292210e-01 -5.60247362e-01\n",
      " -3.44262123e-01 -4.64371979e-01  2.64644414e-01 -2.66881764e-01\n",
      "  2.67573595e-01 -2.25550141e-02  2.97785103e-01  1.72345769e+00\n",
      "  5.87788582e-01 -6.14552021e-01  6.04319394e-01 -5.99832647e-02\n",
      " -2.35066079e-02 -2.72660498e-02 -3.40155274e-01  6.11551642e-01\n",
      "  1.21816635e+00  5.69462240e-01  1.05885553e+00 -9.54238176e-02\n",
      "  5.92006207e-01  3.66368532e-01 -8.45839024e-01  3.94693851e-01\n",
      "  2.35582620e-01  6.91884518e-01 -1.86187887e+00  9.57286477e-01\n",
      "  5.65307438e-01 -4.90228802e-01  8.41324270e-01 -2.48000652e-01\n",
      " -8.31936300e-02 -1.19295567e-01 -5.59261858e-01 -8.68661702e-02\n",
      " -6.75781369e-02  5.90043254e-02  5.98990098e-02  3.36321294e-01\n",
      "  5.88541254e-02  8.57590318e-01  2.25650132e-01  9.59640443e-01\n",
      " -4.71969783e-01  6.26197338e-01  8.33152771e-01 -5.19879639e-01\n",
      " -5.87162495e-01  7.00028777e-01  5.87545931e-01  3.44333351e-01\n",
      " -1.21452332e+00 -1.60075836e-02 -4.13830161e-01  7.08380222e-01\n",
      "  6.98686779e-01 -3.71451080e-01  7.19541430e-01 -1.31629243e-01\n",
      " -3.51779093e-03 -4.16871399e-01  2.86455989e-01 -4.04782057e-01\n",
      "  6.48040712e-01  1.16212451e+00 -4.72960502e-01  4.89309549e-01\n",
      "  2.65322685e-01  1.08556998e+00  3.76119316e-01 -9.22443628e-01\n",
      " -2.30535269e-01  3.80907744e-01 -1.21657550e-01 -7.74114653e-02\n",
      " -4.94731247e-01 -2.95164287e-01 -7.44602159e-02 -3.36528540e-01\n",
      " -1.29304945e+00  6.02036677e-02  1.09093451e+00 -3.91466200e-01\n",
      "  5.79024076e-01  2.17555508e-01 -2.87612617e-01  1.94201842e-01\n",
      " -5.74356079e-01  6.11653149e-01  3.91429722e-01 -3.38845611e-01\n",
      " -5.18676221e-01  3.06476057e-01 -6.03954494e-01  1.80913270e-01\n",
      "  3.46696883e-01 -7.77428970e-02  9.09019187e-02  7.00113922e-02\n",
      " -8.24879780e-02  9.02246058e-01 -4.05861020e-01 -1.73239093e-02\n",
      "  9.99144390e-02  6.32875934e-02  1.64506719e-01  7.46182650e-02\n",
      "  8.13847661e-01  6.35026872e-01 -5.65356433e-01  2.60190815e-01\n",
      "  5.89712597e-02  1.32967487e-01 -3.05918992e-01 -4.84102726e-01\n",
      " -2.93348193e-01  9.84516323e-01 -5.84636986e-01 -1.80695757e-01\n",
      " -4.88535255e-01 -2.06880197e-01  5.56958199e-01 -5.00714779e-01\n",
      " -3.74321729e-01  1.23296812e-01 -1.32563877e+00  1.42004490e-01\n",
      " -3.09263110e-01  8.21540058e-01 -3.08676720e-01 -2.71081656e-01\n",
      " -1.69072881e-01 -7.17817128e-01  1.15952206e+00 -2.35318258e-01\n",
      " -2.08242297e-01 -3.95812124e-01 -2.92442855e-04 -6.71797633e-01\n",
      "  7.18716919e-01 -2.33397886e-01  3.41659814e-01  9.42737758e-01\n",
      "  1.77107930e-01  3.04257780e-01 -8.72963190e-01 -2.08007488e-02\n",
      " -4.36730206e-01 -8.52538705e-01  6.77212477e-01  4.66120034e-01\n",
      " -1.25073135e+00 -5.81974089e-01  1.02274671e-01 -2.64533013e-01\n",
      " -2.30871942e-02  7.05368400e-01  4.40623671e-01 -2.83513665e-01\n",
      "  1.27129152e-01  4.41659719e-01 -3.14408034e-01  1.47856116e-01\n",
      " -1.13659382e+00 -2.17726022e-01  6.23159945e-01  1.18012480e-01\n",
      " -1.65116265e-01 -6.40773118e-01  5.46495199e-01  4.17034745e-01\n",
      " -1.93105310e-01  5.52878752e-02  1.43081635e-01 -6.16967618e-01\n",
      "  4.15407091e-01  1.42037952e+00  3.80081654e-01  9.99245882e-01\n",
      " -3.42559338e-01  6.73619032e-01 -2.07689494e-01  6.35467231e-01\n",
      "  1.48779273e+00 -2.75697887e-01 -2.63629168e-01 -7.31748194e-02\n",
      "  1.89586950e-03 -7.69075811e-01 -4.77384597e-01  1.02100265e+00\n",
      " -4.82297450e-01 -1.20669641e-01  4.15332645e-01  5.91618530e-02\n",
      "  1.03797054e+00 -5.47217965e-01  3.13258022e-01  6.81133032e-01\n",
      " -3.68556559e-01  5.69961190e-01 -3.00340116e-01 -4.80755568e-01\n",
      " -5.02778068e-02  6.17770433e-01  1.89927742e-02 -3.77490193e-01\n",
      "  1.41768321e-01  7.80981660e-01 -3.84240091e-01  5.52276969e-02\n",
      " -9.57285464e-02 -7.23627508e-01  1.49730116e-01  1.09861791e+00\n",
      " -6.91233218e-01 -5.31100594e-02  1.20074987e-01 -1.44811803e-02\n",
      " -4.69043225e-01 -4.62422192e-01  2.01178610e-01 -8.88655260e-02\n",
      " -4.60181028e-01 -3.73510808e-01 -2.60684043e-02 -1.17209144e-01\n",
      "  9.15948953e-03  4.16712940e-01  2.67710060e-01  5.27855575e-01\n",
      " -4.40576792e-01 -3.54045630e-01 -5.88242970e-02  1.88382208e-01\n",
      "  8.21217671e-02 -6.81433916e-01 -3.07059195e-02  5.67822754e-01\n",
      "  5.29748499e-01 -4.99385774e-01 -3.09617907e-01 -1.02642417e-01\n",
      " -6.61773622e-01  4.33030814e-01  5.99925756e-01 -6.76590979e-01\n",
      "  5.00318930e-02 -5.10165215e-01  7.59146929e-01 -2.47493740e-02\n",
      " -1.80142477e-01  5.19516230e-01  1.07324533e-01 -5.00668824e-01\n",
      "  3.53607774e-01 -1.62214652e-01 -1.60504803e-01  4.40871775e-01\n",
      " -1.78438649e-01 -5.05139232e-01 -1.01235890e+00  2.48117894e-01\n",
      " -5.11188447e-01  1.74770236e-01  8.29101562e-01 -1.00228179e+00\n",
      "  3.27334374e-01 -2.19933197e-01 -1.23447709e-01 -1.61241710e-01\n",
      " -6.17850162e-02  1.88073561e-01 -1.02920800e-01  1.72364756e-01\n",
      " -5.08176625e-01  5.49406707e-01  4.36621845e-01 -9.10659850e-01\n",
      "  1.41511306e-01 -6.20780662e-02  5.00342309e-01 -5.74239850e-01\n",
      " -4.36579466e-01 -7.88330659e-02  9.81152296e-01 -6.37921989e-01\n",
      "  1.56502441e-01  5.28143011e-02 -2.14096397e-01  1.34172678e-01\n",
      "  3.52504551e-01  2.93374956e-01  1.28061175e-01 -6.71271324e-01\n",
      " -5.17482087e-02  9.91789341e-01  2.31303737e-01 -4.96764183e-02\n",
      " -4.83383715e-01  1.00241154e-01 -9.16052520e-01 -4.53378320e-01\n",
      " -2.59417981e-01  2.32401658e-02  8.89824569e-01  4.41391945e-01\n",
      " -1.56938568e-01  3.17317069e-01 -1.41847029e-01 -4.74133998e-01\n",
      "  5.93121052e-01 -4.54644859e-01 -1.88611615e-02 -2.20847756e-01\n",
      "  1.27704597e+00  1.14258385e+00 -2.08520472e-01 -5.56985915e-01\n",
      " -4.85482454e-01  1.03180850e+00  3.02320093e-01  8.62334788e-01\n",
      " -4.52501655e-01 -7.09908187e-01  2.07147360e-01  8.27097178e-01\n",
      " -1.34769559e-01  2.70543844e-02  1.14952639e-01  1.12328768e-01\n",
      " -1.82753161e-01 -5.83577991e-01 -2.67232358e-01  3.06137502e-01\n",
      " -3.60244513e-01 -4.89607424e-01  4.26346302e-01 -2.05353618e-01\n",
      " -1.78375185e-01 -5.30243039e-01  3.66937250e-01 -2.27350473e-01\n",
      "  5.51085889e-01 -9.55034792e-02  5.75911224e-01 -3.79808754e-01\n",
      "  4.69766632e-02 -8.22235718e-02  4.66322541e-01 -1.28976583e+00\n",
      "  1.69037819e-01 -1.40805855e-01  5.04209340e-01 -3.14520717e-01\n",
      "  6.52220368e-01 -4.91605103e-02  4.92532998e-01  5.54282486e-01\n",
      " -7.60390162e-01 -4.49835509e-02 -3.98927361e-01 -8.29735920e-02\n",
      "  9.91931617e-01  1.01718232e-02  3.10495883e-01 -6.12422764e-01\n",
      " -6.91284657e-01  2.50425875e-01  5.26148438e-01  1.75509036e-01\n",
      " -5.44773042e-01 -4.83786687e-02 -3.26678038e-01 -2.47601882e-01\n",
      " -3.10142428e-01 -2.54360795e-01 -4.59155262e-01  2.93214530e-01\n",
      " -8.43664169e-01 -3.16741914e-01 -7.90408969e-01  2.47179002e-01\n",
      "  1.41189858e-01  2.63226360e-01 -2.08415493e-01  4.52487826e-01\n",
      " -7.96849310e-01  5.66900849e-01  3.07065308e-01  1.90365687e-02\n",
      " -1.06058681e+00 -2.79941678e-01 -5.16691566e-01  5.78798838e-02\n",
      "  8.69804263e-01  1.23412299e+00 -1.03490859e-01  1.25427917e-01\n",
      "  6.19832054e-02 -3.40872526e-01 -7.17463791e-02  1.02375376e+00\n",
      "  9.17611457e-03  9.19028342e-01 -9.90511596e-01 -1.21138118e-01\n",
      "  3.49915445e-01 -2.76705950e-01 -2.73045301e-01 -1.71323568e-01\n",
      " -7.79036582e-01  4.91064861e-02  3.88968408e-01 -5.20953476e-01\n",
      "  4.72675890e-01  6.44392729e-01 -5.94647646e-01  1.18426876e-02\n",
      " -2.66862899e-01 -2.69197404e-01 -2.47342438e-02 -4.46460307e-01\n",
      " -3.29050332e-01  1.10608347e-01  1.80856302e-01  4.18497533e-01\n",
      " -8.57788861e-01 -1.11232686e+00 -3.16156477e-01  1.11513436e+00\n",
      " -3.31797525e-02 -3.43456089e-01 -2.36101791e-01 -3.57465059e-01\n",
      "  6.97787225e-01  3.23261678e-01 -4.75672901e-01  1.92753017e-01\n",
      "  5.07825613e-01  5.27096868e-01  4.57796216e-01 -2.24204376e-01\n",
      " -3.16471010e-01 -5.49207807e-01 -3.38898331e-01 -2.47189865e-01\n",
      " -1.38754055e-01  6.57365263e-01 -2.72738021e-02  1.05384871e-01\n",
      " -4.50470716e-01 -2.81259924e-01  7.15809882e-01 -2.25987941e-01\n",
      "  3.22018743e-01  1.32866964e-01  1.36634529e-01 -3.27936232e-01\n",
      "  8.31288278e-01  2.92455144e-02 -5.97056866e-01 -2.27611259e-01\n",
      " -2.67553270e-01  2.70353675e-01 -1.04598713e+00 -1.91104680e-01\n",
      "  1.35223448e+00 -8.94531131e-01 -8.30622241e-02 -8.39449763e-02\n",
      " -5.82324743e-01 -6.32739738e-02  2.65714437e-01  1.77459985e-01\n",
      " -4.49232817e-01  4.34464663e-02 -3.41450363e-01  4.12399560e-01\n",
      " -3.42403084e-01  8.45672190e-01 -1.73872605e-01  1.35635889e+00\n",
      " -7.05278516e-01  1.33494520e+00 -6.51135027e-01 -1.17176580e+00\n",
      "  6.32129014e-01 -7.74976850e-01  1.23685308e-01 -4.68495637e-01\n",
      " -7.60245919e-02  4.23329443e-01  2.31129721e-01  1.27742863e+00\n",
      " -7.44583130e-01  2.28224501e-01 -8.70347738e-01  2.83463627e-01\n",
      " -3.56241339e-03 -5.49434841e-01 -4.58050072e-01  1.15442646e+00\n",
      "  2.40567893e-01 -1.97578698e-01  2.91451395e-01  8.13631237e-01\n",
      "  3.86673540e-01  6.56302869e-02 -8.87026250e-01  4.85067457e-01\n",
      " -3.91458631e-01  1.23444192e-01 -2.05788687e-01  1.73837498e-01\n",
      "  1.53300762e-01 -4.39879447e-01  6.45275831e-01 -3.48697603e-01\n",
      " -5.96876800e-01  7.97479227e-02 -5.32552361e-01 -1.23494053e+00\n",
      "  1.95328936e-01 -1.36018276e+00 -3.26980174e-01 -6.96005106e-01\n",
      " -2.04857096e-01 -5.17473975e-03 -5.85553765e-01  5.79926908e-01\n",
      "  8.44058394e-01  4.85576503e-02  4.51126784e-01  6.05915003e-02\n",
      " -7.52648950e-01  7.32060382e-03 -4.16672826e-01 -4.53833491e-01\n",
      " -5.78836836e-02  5.14877677e-01  4.25466686e-01  5.64170957e-01\n",
      " -9.80011404e-01  8.12970996e-01 -5.29940724e-01 -8.39108467e-01\n",
      "  7.16545880e-01  4.95020986e-01 -7.97052324e-01  1.28942788e-01\n",
      " -3.02132368e-01 -8.33546221e-02 -4.62123573e-01 -1.43121004e-01\n",
      "  1.03349197e+00  4.60390270e-01 -3.30537766e-01 -2.36379713e-01\n",
      " -1.97481513e-01  1.48095507e-02 -1.07769620e+00 -1.08410113e-01\n",
      "  2.75419831e-01  5.57831042e-02 -2.50686586e-01 -9.27690387e-01\n",
      " -4.59981300e-02 -4.01330829e-01  7.14286208e-01  6.12324923e-02\n",
      " -8.77659023e-01  5.33353448e-01 -3.26849997e-01 -1.55515403e-01\n",
      "  8.83250296e-01  4.38034087e-02 -2.65803058e-02  1.36585847e-01\n",
      " -5.74741125e-01 -5.89603901e-01 -2.64363587e-01 -1.14045501e+00\n",
      " -8.15228671e-02 -7.95546234e-01 -9.73720908e-01 -7.06167817e-01\n",
      "  7.06653714e-01 -3.17953378e-01 -9.40511346e-01  6.16708994e-01\n",
      "  3.71810526e-01  7.39454292e-03  1.12828538e-01 -1.28965211e+00\n",
      " -7.10735247e-02  1.22390676e+00 -2.59916753e-01  4.34437007e-01\n",
      " -5.64912796e-01 -7.83377364e-02 -5.49387753e-01 -1.60182846e+00\n",
      " -8.86194944e-01 -1.04885674e+00 -9.94023588e-03 -7.11398542e-01\n",
      " -2.63089061e-01  3.24644834e-01  5.88831961e-01 -1.23947762e-01]\n",
      "\n"
     ]
    }
   ],
   "source": [
    "#for sentence, embedding in zip(df2list, sentence_embeddings):\n",
    "    print(\"Sentence:\", df2list[0])\n",
    "    print(\"Embedding:\", sentence_embeddings[0])\n",
    "    print(\"\")"
   ]
  },
  {
   "cell_type": "code",
   "execution_count": 0,
   "metadata": {
    "colab": {},
    "colab_type": "code",
    "id": "ClctPcupxOPi"
   },
   "outputs": [],
   "source": [
    "import numpy as np\n",
    "import tensorflow as tf\n",
    "config = tf.ConfigProto()\n",
    "config.gpu_options.allow_growth = True\n"
   ]
  },
  {
   "cell_type": "code",
   "execution_count": 0,
   "metadata": {
    "colab": {},
    "colab_type": "code",
    "id": "gvSBRxoQCq9H"
   },
   "outputs": [],
   "source": [
    "\n",
    "# save numpy array as npy file\n",
    "from numpy import asarray\n",
    "from numpy import save\n",
    "# define data\n",
    "\n",
    "# save to npy file\n",
    "save('/content/drive/My Drive/full_text_sent_embeddings.csv.npy', sentence_embeddings)\n"
   ]
  },
  {
   "cell_type": "code",
   "execution_count": 0,
   "metadata": {
    "colab": {},
    "colab_type": "code",
    "id": "Oh5izIa7kPqL"
   },
   "outputs": [],
   "source": [
    "pd2 = model_preds"
   ]
  },
  {
   "cell_type": "code",
   "execution_count": 0,
   "metadata": {
    "colab": {},
    "colab_type": "code",
    "id": "LHsmqEZyGhGu"
   },
   "outputs": [],
   "source": [
    "gold_std = pd2['gold'].to_list()\n",
    "oracle_std = pd2['oracle'].to_list()\n",
    "lead_std = pd2['lead'].to_list()\n",
    "ptgen_std = pd2['ptgen'].to_list()\n",
    "topic_convs2s = pd2['topic_convs2s'].to_list\n",
    "\n",
    "convs2s_std = pd2['convs2s'].to_list()"
   ]
  },
  {
   "cell_type": "code",
   "execution_count": 0,
   "metadata": {
    "colab": {},
    "colab_type": "code",
    "id": "nI516uo7Gz8J"
   },
   "outputs": [],
   "source": [
    "pd_convs2s = model.encode(convs2s_std)"
   ]
  },
  {
   "cell_type": "code",
   "execution_count": 0,
   "metadata": {
    "colab": {
     "base_uri": "https://localhost:8080/",
     "height": 34
    },
    "colab_type": "code",
    "executionInfo": {
     "elapsed": 426,
     "status": "ok",
     "timestamp": 1588694718625,
     "user": {
      "displayName": "Parthvi Shah",
      "photoUrl": "https://lh3.googleusercontent.com/a-/AOh14Gj14forhnYAb8tD0SHMMufGgXmEIpTA6BXAnPZ5Uvg=s64",
      "userId": "12920190590086167612"
     },
     "user_tz": 240
    },
    "id": "J-NTna2llTPo",
    "outputId": "37f37efa-7c32-4cdf-ffcc-04af38523eaf"
   },
   "outputs": [
    {
     "data": {
      "text/plain": [
       "11334"
      ]
     },
     "execution_count": 30,
     "metadata": {
      "tags": []
     },
     "output_type": "execute_result"
    }
   ],
   "source": [
    "len(pd_convs2s)"
   ]
  },
  {
   "cell_type": "code",
   "execution_count": 0,
   "metadata": {
    "colab": {},
    "colab_type": "code",
    "id": "-01FDiFAG7SK"
   },
   "outputs": [],
   "source": [
    "save('/content/drive/My Drive/conv2s_std_sent_embeddings.csv.npy', pd_convs2s )"
   ]
  },
  {
   "cell_type": "code",
   "execution_count": 0,
   "metadata": {
    "colab": {},
    "colab_type": "code",
    "id": "GGzUrHmmHEVH"
   },
   "outputs": [],
   "source": [
    "pd_oracle = (model.encode(oracle_std))\n",
    "pd_lead = model.encode(lead_std)\n",
    "\n",
    "save('/content/drive/My Drive/oracle_sent_embeddings.csv.npy', pd_oracle)\n",
    "save('/content/drive/My Drive/lead_sent_embeddings.csv.npy', pd_lead)"
   ]
  },
  {
   "cell_type": "code",
   "execution_count": 0,
   "metadata": {
    "colab": {},
    "colab_type": "code",
    "id": "FB0ZGXyklfqj"
   },
   "outputs": [],
   "source": [
    "gold_std = pd2['gold'].to_list()\n",
    "ptgen_std = pd2['ptgen'].to_list()\n",
    "topic_convs2s = pd2['topic_convs2s'].to_list()\n",
    "\n",
    "#pd_gold = (model.encode(gold_std))\n",
    "#pd_ptgen = model.encode(ptgen_std)\n",
    "pd_topic = model.encode(topic_convs2s)\n",
    "\n",
    "#save('/content/drive/My Drive/gold_sent_embeddings.csv.npy', pd_gold)\n",
    "#save('/content/drive/My Drive/ptgen_sent_embeddings.csv.npy', pd_ptgen)\n",
    "save('/content/drive/My Drive/topic_sent_embeddings.csv.npy', pd_topic)"
   ]
  },
  {
   "cell_type": "code",
   "execution_count": 0,
   "metadata": {
    "colab": {
     "base_uri": "https://localhost:8080/",
     "height": 1000
    },
    "colab_type": "code",
    "executionInfo": {
     "elapsed": 251,
     "status": "ok",
     "timestamp": 1588696693970,
     "user": {
      "displayName": "Parthvi Shah",
      "photoUrl": "https://lh3.googleusercontent.com/a-/AOh14Gj14forhnYAb8tD0SHMMufGgXmEIpTA6BXAnPZ5Uvg=s64",
      "userId": "12920190590086167612"
     },
     "user_tz": 240
    },
    "id": "hiGZgDSHlguI",
    "outputId": "51360a3f-85c2-4baf-a122-d879a5c17b4f"
   },
   "outputs": [
    {
     "data": {
      "text/plain": [
       "array([-2.49393746e-01,  3.55545551e-01,  8.40745568e-01, -1.64429605e-01,\n",
       "        7.13316858e-01, -8.73796046e-02,  9.96831238e-01,  3.26661736e-01,\n",
       "       -1.40925929e-01,  6.71937466e-02,  2.52174828e-02, -6.39251322e-02,\n",
       "        4.05319780e-01,  9.74939540e-02, -5.47203779e-01,  4.59083021e-01,\n",
       "       -3.31218541e-01, -2.32927576e-02, -2.52150387e-01, -1.80637911e-01,\n",
       "        1.14652000e-01, -1.07270384e+00,  8.69179904e-01,  3.60032111e-01,\n",
       "        1.10179150e+00, -8.93468186e-02, -2.61973664e-02,  1.55868441e-01,\n",
       "       -1.14413011e+00,  3.08493018e-01, -7.01565266e-01,  1.32840022e-01,\n",
       "       -5.67640603e-01,  9.48267281e-02,  2.52067268e-01,  1.04207027e+00,\n",
       "       -4.48491991e-01, -5.61940134e-01, -4.18673605e-01, -5.51107386e-03,\n",
       "       -3.10015261e-01,  2.72015125e-01,  4.68301699e-02,  3.01400840e-01,\n",
       "       -2.83310711e-01,  3.89204383e-01,  2.65798837e-01,  7.60998905e-01,\n",
       "        1.30835462e+00, -9.55899417e-01, -4.49460685e-01,  4.31870371e-01,\n",
       "        1.38546979e+00,  2.01663896e-01, -4.43949789e-01, -6.65321529e-01,\n",
       "        5.82476594e-02, -1.08461273e+00, -7.57258475e-01, -4.47398007e-01,\n",
       "       -6.51550472e-01,  6.21622145e-01, -9.39760506e-01, -6.78224206e-01,\n",
       "       -1.50421292e-01, -7.54414380e-01, -2.47485802e-01,  2.88093418e-01,\n",
       "       -1.43169534e+00, -1.05408919e+00, -4.54685777e-01, -1.06542194e+00,\n",
       "       -9.18708444e-01, -8.33249331e-01,  5.51660001e-01, -1.90148130e-02,\n",
       "       -4.14968887e-03, -2.03300244e-03,  1.54487538e+00,  3.93661916e-01,\n",
       "        4.98047829e-01, -3.28976274e-01,  4.57354903e-01, -4.32964265e-01,\n",
       "        8.23719740e-01, -6.63275793e-02, -3.62686574e-01, -1.26276302e+00,\n",
       "       -1.02167316e-01,  2.10337549e-01, -5.57896271e-02, -1.18431173e-01,\n",
       "        2.79050499e-01,  2.89368212e-01, -1.44523036e+00, -1.75305113e-01,\n",
       "       -3.04808933e-02, -2.25151628e-01,  9.22945142e-02,  3.41170847e-01,\n",
       "        5.15776455e-01, -1.00185331e-02, -2.28097662e-01,  8.89256597e-01,\n",
       "       -2.87078768e-01,  4.26918179e-01, -3.49587470e-01, -2.23769367e-01,\n",
       "        3.36484969e-01,  1.22584254e-01, -1.39823034e-01,  1.94119155e-01,\n",
       "       -1.44698933e-01, -1.30105987e-01,  1.10270754e-01, -5.94217002e-01,\n",
       "       -4.41031128e-01,  5.98483622e-01,  1.30798845e-02,  7.76103675e-01,\n",
       "        1.31243503e+00, -7.07272172e-01,  5.27194375e-03,  3.70647758e-01,\n",
       "        1.63847700e-01,  7.09637821e-01, -1.78017423e-01,  4.87519115e-01,\n",
       "       -1.11050045e+00, -2.88480490e-01, -3.70289385e-01,  5.39557338e-01,\n",
       "       -9.24946666e-01, -3.72751147e-01, -3.02462012e-01, -7.69096091e-02,\n",
       "       -4.69963551e-02, -9.83790696e-01,  8.16860974e-01, -1.51324198e-01,\n",
       "       -1.90966159e-01,  1.80544928e-02,  3.93441468e-01, -2.24056423e-01,\n",
       "        1.08366527e-01, -2.52915114e-01,  1.73744768e-01, -6.13069475e-01,\n",
       "       -1.65123358e-01, -4.07167990e-03,  3.68991584e-01, -4.56986547e-01,\n",
       "       -4.16361600e-01,  8.92402411e-01, -5.21044552e-01, -1.87277392e-01,\n",
       "       -1.62473157e-01, -6.45687699e-01, -6.15987957e-01,  2.73718268e-01,\n",
       "        6.22510195e-01,  1.56594425e-01,  2.03701153e-01,  1.20552826e+00,\n",
       "        4.80544746e-01,  4.58097696e-01,  1.05176711e+00, -7.53293812e-01,\n",
       "        1.03141713e+00, -3.85875165e-01, -5.46510577e-01,  8.96388590e-01,\n",
       "        2.37389159e+00, -3.76502424e-01,  9.47063088e-01, -6.44237623e-02,\n",
       "       -6.47413194e-01, -7.25741863e-01, -4.92292762e-01,  3.71965542e-02,\n",
       "       -4.55070376e-01,  4.87868041e-01, -4.78097290e-01,  1.30191886e+00,\n",
       "       -2.28794850e-02, -9.63260755e-02,  8.26177597e-01, -3.46503615e-01,\n",
       "       -4.75201577e-01, -1.68572411e-01, -5.93781173e-01, -3.92955780e-01,\n",
       "        1.28475976e+00, -2.20944792e-01, -3.11465055e-01, -2.57965744e-01,\n",
       "        3.55479419e-01, -1.29214287e-01, -5.15759826e-01,  8.46833825e-01,\n",
       "       -1.53319642e-01,  3.41585100e-01, -2.01389045e-01, -1.44663304e-01,\n",
       "        3.99438918e-01,  6.13014519e-01,  3.21779907e-01, -1.52030066e-01,\n",
       "       -7.70192742e-01, -1.63677543e-01, -7.13113129e-01,  9.06727612e-02,\n",
       "        9.71679211e-01,  6.59118533e-01,  1.61382926e+00, -8.87143314e-02,\n",
       "       -5.13848782e-01, -3.19341600e-01, -3.83573472e-01,  9.54670370e-01,\n",
       "       -4.38398629e-01,  4.13913041e-01, -1.80506393e-01, -4.72116098e-02,\n",
       "       -2.15130150e-01,  2.52128690e-01, -3.55281532e-01, -6.87680602e-01,\n",
       "       -3.88511389e-01,  3.16014379e-01, -6.50137290e-02,  5.92716634e-01,\n",
       "       -1.27615976e+00,  3.68520856e-01, -2.28888601e-01, -8.51670980e-01,\n",
       "       -2.04416203e+00,  2.32175335e-01,  8.16580534e-01, -1.24359989e+00,\n",
       "       -5.88607453e-02,  4.46402252e-01,  2.14994311e-01,  7.32027173e-01,\n",
       "       -2.65485436e-01, -1.20734558e-01,  9.45809722e-01, -3.42456698e-01,\n",
       "        2.02312395e-01,  5.79628758e-02, -4.19429541e-01, -4.11847055e-01,\n",
       "        3.45418543e-01, -3.75417918e-01, -5.66534579e-01, -4.17458028e-01,\n",
       "        2.44206294e-01,  6.57878816e-01,  2.94536978e-01,  2.65010744e-01,\n",
       "        1.10652938e-01,  2.38814101e-01,  9.65339363e-01,  3.27548623e-01,\n",
       "       -2.95624375e-01,  3.89568321e-02, -4.12921518e-01,  1.17366917e-01,\n",
       "       -7.42350817e-01, -2.36460283e-01, -2.86962628e-01, -1.26362514e+00,\n",
       "        9.99711379e-02,  7.98829257e-01, -8.37211072e-01, -1.91421196e-01,\n",
       "       -1.09623373e+00,  1.10254558e-02,  4.96115416e-01,  4.09650415e-01,\n",
       "        2.63290077e-01,  9.69447374e-01,  1.71709478e-01, -4.26970065e-01,\n",
       "       -1.44290698e+00,  8.98643494e-01, -8.21068227e-01,  3.22436750e-01,\n",
       "       -1.92158177e-01, -4.31864530e-01,  5.35919189e-01, -1.21521674e-01,\n",
       "        4.85530257e-01,  9.64839906e-02, -1.39240041e-01, -6.56655192e-01,\n",
       "        3.52074236e-01, -2.12064654e-01,  7.21648812e-01,  7.64570236e-01,\n",
       "       -1.85587406e-01,  7.38687158e-01, -1.07719266e+00, -2.31620878e-01,\n",
       "       -9.04033124e-01, -3.70893836e-01, -3.28874350e-01,  5.29251516e-01,\n",
       "        5.95507085e-01,  1.30225435e-01, -6.01871967e-01, -7.26839662e-01,\n",
       "        1.47359204e-02,  1.47545540e+00,  8.89362156e-01,  1.82583351e-02,\n",
       "        8.17749351e-02, -8.84984136e-01, -3.22451234e-01, -6.28430426e-01,\n",
       "       -7.58013070e-01,  9.90864858e-02,  3.28277767e-01,  1.46734670e-01,\n",
       "        8.42285693e-01, -1.31467950e+00,  6.45728707e-01,  5.51947534e-01,\n",
       "        1.85308736e-02, -2.39609301e-01, -3.62775624e-01, -7.55185366e-01,\n",
       "        6.79201603e-01,  7.79427230e-01,  5.81069827e-01,  4.52591926e-01,\n",
       "       -4.16156143e-01,  2.16602795e-02,  3.73198837e-01,  6.84149265e-01,\n",
       "        1.74464881e+00, -1.11692357e+00, -2.52093971e-01,  5.32133698e-01,\n",
       "        5.34290671e-01, -1.53796420e-01, -8.20366815e-02,  9.99696970e-01,\n",
       "       -8.29011500e-01, -3.88830572e-01,  3.93109590e-01,  5.53316414e-01,\n",
       "        1.98532796e+00,  1.05684742e-01,  4.50618953e-01,  1.96191519e-01,\n",
       "       -9.24107015e-01,  4.36459184e-01,  8.57997388e-02, -4.89233285e-01,\n",
       "       -4.28020537e-01,  1.06130369e-01,  7.75166377e-02,  1.36477351e-01,\n",
       "       -5.51245883e-02,  2.81391561e-01, -2.17253268e-01, -1.44277528e-01,\n",
       "        1.47262469e-01, -2.18754649e-01,  7.17564642e-01,  4.24703956e-01,\n",
       "       -4.85784352e-01, -6.38500392e-01,  6.44760191e-01, -8.57595444e-01,\n",
       "       -4.66687858e-01, -6.58505410e-02, -4.00293283e-02, -3.87632012e-01,\n",
       "       -2.19157472e-01, -4.99850720e-01,  5.88204861e-01,  2.27562889e-01,\n",
       "        2.64165878e-01, -4.82326746e-01,  5.08191586e-01, -6.05781555e-01,\n",
       "        5.36609054e-01,  1.22692071e-01,  8.51909161e-01,  8.30551863e-01,\n",
       "       -2.84851372e-01,  2.23222505e-02,  2.01575205e-01, -3.43622565e-01,\n",
       "       -3.31527665e-02, -1.42384648e-01, -2.32202490e-03,  3.55188310e-01,\n",
       "       -3.78149748e-01,  8.83153453e-02,  7.67562747e-01, -6.87483102e-02,\n",
       "        1.19170964e+00, -1.01780556e-01,  1.97363049e-01, -2.14659497e-01,\n",
       "       -3.05746235e-02, -4.60766256e-02,  2.23918363e-01, -3.91507924e-01,\n",
       "       -3.66992891e-01, -3.05633605e-01, -2.86303103e-01,  5.33006907e-01,\n",
       "       -4.18333918e-01, -6.22102499e-01, -1.04202700e+00,  1.03934741e+00,\n",
       "        4.41300333e-01, -9.16612804e-01,  5.77206500e-02, -5.71922243e-01,\n",
       "        7.84756899e-01,  1.20510173e+00,  5.62511571e-03, -5.33089221e-01,\n",
       "       -8.19473326e-01, -4.29700576e-02,  2.16078069e-02, -2.79201150e-01,\n",
       "       -4.57563847e-01, -3.03842485e-01,  3.37618381e-01, -1.22498786e+00,\n",
       "        1.04691945e-01,  1.23961210e-01,  3.35413888e-02, -8.46883595e-01,\n",
       "       -9.28134620e-01, -6.19968832e-01,  3.22971046e-01, -6.72498763e-01,\n",
       "       -7.03492343e-01,  1.82426840e-01, -2.50913024e-01, -7.66925747e-04,\n",
       "        1.10183634e-01, -9.65966564e-03,  6.33796677e-02, -6.56146586e-01,\n",
       "        5.45270443e-01,  7.81764627e-01,  6.39190733e-01,  2.57739097e-01,\n",
       "       -9.38177407e-01,  3.30873609e-01, -1.58334231e+00,  1.23733625e-01,\n",
       "        3.33918601e-01,  4.11609150e-02,  1.65941760e-01,  5.69163680e-01,\n",
       "        1.16662753e+00, -1.49972484e-01,  7.47852027e-01, -8.02681625e-01,\n",
       "        1.12073675e-01, -2.42425397e-01,  1.23742074e-01,  2.41894752e-01,\n",
       "        2.40804762e-01,  8.49889100e-01, -1.50691777e-01, -1.33513355e+00,\n",
       "        9.96859297e-02,  8.35739672e-01, -4.01957452e-01,  7.68898904e-01,\n",
       "       -6.67630613e-01, -4.10893679e-01,  4.89587367e-01,  5.88700533e-01,\n",
       "       -7.13301718e-01, -3.47290456e-01, -5.58822811e-01,  3.67456019e-01,\n",
       "        2.97350734e-01,  1.94791127e-02,  6.25822246e-01,  4.80570406e-01,\n",
       "       -3.47648770e-01, -1.21988155e-01,  7.27541864e-01, -6.13131344e-01,\n",
       "        2.25414246e-01,  3.64444107e-01,  2.66586483e-01,  9.30866376e-02,\n",
       "        5.82637668e-01, -4.68089253e-01,  4.66064394e-01,  4.08582389e-02,\n",
       "        1.21557176e+00,  3.93667310e-01, -6.77401721e-01, -4.70113009e-01,\n",
       "        4.92161751e-01, -3.90507013e-01,  4.27331954e-01,  3.32238764e-01,\n",
       "        3.38857234e-01,  4.76251930e-01,  1.97377875e-01, -2.57953584e-01,\n",
       "       -4.11690950e-01, -1.66446075e-01,  2.56902009e-01, -3.19622308e-01,\n",
       "        4.97849733e-01, -6.64556772e-02,  6.34490728e-01, -4.19379205e-01,\n",
       "        1.75736934e-01, -1.28936032e-02, -4.80829775e-01,  7.29133725e-01,\n",
       "       -1.15373170e+00, -4.68214095e-01, -2.51314104e-01, -5.60556054e-01,\n",
       "        2.05903053e-01,  1.02340698e+00, -8.12693775e-01,  8.91640186e-02,\n",
       "       -3.58389616e-01, -4.25394565e-01, -4.94031936e-01, -1.68022409e-01,\n",
       "       -1.86451897e-01,  1.76694974e-01,  1.38197792e+00, -4.18610796e-02,\n",
       "       -1.43029845e+00, -5.87282300e-01,  1.38471007e-01,  2.06522599e-01,\n",
       "       -7.01054931e-01, -5.91700077e-01,  2.19658256e-01, -5.19029610e-02,\n",
       "        2.41869271e-01,  9.06537622e-02,  6.16174415e-02,  2.05144539e-01,\n",
       "        1.33529961e-01, -3.07721466e-01,  3.61509323e-01,  1.05525863e+00,\n",
       "        1.75540876e-02,  5.09740293e-01, -5.61913908e-01, -5.95469952e-01,\n",
       "       -1.14460416e-01, -5.19804396e-02, -3.35403979e-01, -7.20580518e-01,\n",
       "       -3.73544514e-01, -8.22639585e-01,  1.22016883e+00, -1.62949041e-01,\n",
       "        9.83711898e-01,  2.50142783e-01, -3.53305191e-02, -3.52598071e-01,\n",
       "       -3.57206404e-01, -1.28114030e-01,  4.59522337e-01,  4.64756817e-01,\n",
       "        1.38224876e+00, -4.86620575e-01, -1.13374686e+00, -1.63106009e-01,\n",
       "       -4.18560028e-01, -5.52601099e-01, -1.01045199e-01,  4.96463120e-01,\n",
       "       -1.98574215e-01, -1.07956804e-01, -6.17922992e-02, -1.60778150e-01,\n",
       "        9.39488113e-01,  2.72703677e-01,  1.17156494e+00,  2.76189774e-01,\n",
       "       -3.50095987e-01, -4.59600478e-01,  3.96867007e-01,  2.01868162e-01,\n",
       "       -4.67718810e-01, -9.29773226e-03, -3.18743318e-01,  3.22680354e-01,\n",
       "       -4.37800109e-01,  4.71924126e-01,  3.36840600e-01,  2.39422306e-01,\n",
       "       -1.18501353e+00, -1.84440911e-01,  2.82456279e-01, -4.63252038e-01,\n",
       "       -3.82574141e-01, -1.18009426e-01, -4.99110311e-01, -4.44564015e-01,\n",
       "        7.35277772e-01, -4.01032388e-01, -1.05574834e+00,  2.81449147e-02,\n",
       "       -1.20200098e-01,  3.68629873e-01,  1.50149077e-01,  3.99740875e-01,\n",
       "        1.50006518e-01, -7.24556983e-01,  2.01607674e-01, -2.51645744e-01,\n",
       "       -5.79651713e-01, -1.51620016e-01, -5.70571050e-02, -3.77611995e-01,\n",
       "       -1.26545906e-01,  4.89236534e-01, -4.93703008e-01,  3.93116206e-01,\n",
       "       -3.28222811e-01,  5.56846440e-01, -6.20215356e-01,  2.67083272e-02,\n",
       "        2.19975427e-01,  1.68344796e+00, -6.40632331e-01, -1.91396087e-01,\n",
       "        5.96461236e-01, -1.43628848e+00, -7.13006184e-02,  1.46202624e-01,\n",
       "        6.16192698e-01,  8.03218722e-01, -8.72258469e-02,  9.47354734e-01,\n",
       "       -5.71915694e-02, -3.42574686e-01, -1.34072289e-01,  1.41318530e-01,\n",
       "       -9.15568173e-02, -1.06428392e-01, -4.70672011e-01,  9.49284852e-01,\n",
       "        1.56982198e-01, -3.59272957e-01, -8.18370208e-02,  4.38900977e-01,\n",
       "        3.33911628e-01,  4.39999968e-01, -2.50947960e-02,  1.69420630e-01,\n",
       "       -3.62932742e-01,  1.86050683e-01, -2.32035354e-01, -4.56443250e-01,\n",
       "        4.42105941e-02, -3.42027813e-01,  5.90060949e-01, -3.46963942e-01,\n",
       "       -4.55815792e-02,  1.22717954e-01,  1.15529525e+00, -6.79676771e-01,\n",
       "       -5.50501525e-01, -7.31996894e-01, -3.49435210e-01, -7.77301788e-01,\n",
       "        7.12823331e-01, -2.60727536e-02, -6.46154642e-01,  1.84764698e-01,\n",
       "       -9.05477941e-01,  5.38578331e-01,  3.88161391e-01,  2.61161476e-01,\n",
       "       -7.84786522e-01, -7.65537858e-01, -3.70967269e-01, -9.30567905e-02,\n",
       "        3.43415529e-01,  6.02382123e-01,  7.32366025e-01,  1.51043504e-01,\n",
       "       -1.11586559e+00,  2.03587487e-01, -8.96689653e-01, -9.64142919e-01,\n",
       "        6.15906537e-01, -4.46668506e-01, -3.37962061e-01,  1.08308327e+00,\n",
       "        5.05343139e-01, -5.62603474e-01,  3.15761417e-01,  1.44974661e+00,\n",
       "       -3.26687515e-01,  1.06681430e+00,  2.39189882e-02, -4.82405350e-02,\n",
       "        6.97071627e-02, -2.63475806e-01, -6.80335879e-01,  1.52749375e-01,\n",
       "        1.82322115e-01, -2.71387249e-01,  4.83125806e-01, -1.47660136e+00,\n",
       "       -1.04903914e-01, -4.74589348e-01, -8.27400506e-01, -7.23818168e-02,\n",
       "       -2.17497274e-01, -4.54875290e-01, -1.91132143e-01, -4.33538586e-01,\n",
       "       -7.28748739e-02, -2.13675141e-01, -2.07408905e-01,  1.33913949e-01,\n",
       "        4.59685475e-01, -7.19693780e-01,  1.98231086e-01, -1.67743266e+00,\n",
       "       -7.62504153e-03,  2.87113339e-02, -4.45023805e-01, -5.92536449e-01,\n",
       "        4.24703002e-01,  7.03995049e-01,  1.53156430e-01,  1.75877601e-01,\n",
       "       -6.41273737e-01, -2.50131249e-01, -3.59100252e-01,  1.20698377e-01,\n",
       "       -5.27028032e-02,  8.16464067e-01, -4.03613448e-01,  5.56782424e-01,\n",
       "       -2.18288735e-01, -6.95395648e-01, -4.18814689e-01, -6.65259242e-01,\n",
       "       -6.92896068e-01, -1.18170232e-01,  5.01315415e-01, -1.79181278e+00,\n",
       "       -2.15827659e-01, -4.10065293e-01, -3.92747134e-01,  1.96002111e-01],\n",
       "      dtype=float32)"
      ]
     },
     "execution_count": 43,
     "metadata": {
      "tags": []
     },
     "output_type": "execute_result"
    }
   ],
   "source": [
    "pd_gold[1]"
   ]
  },
  {
   "cell_type": "code",
   "execution_count": 0,
   "metadata": {
    "colab": {},
    "colab_type": "code",
    "id": "pIfoLxoEs22c"
   },
   "outputs": [],
   "source": []
  }
 ],
 "metadata": {
  "accelerator": "TPU",
  "colab": {
   "collapsed_sections": [],
   "machine_shape": "hm",
   "name": "Sentence_Embedding.ipynb",
   "provenance": [
    {
     "file_id": "13jIcfZ81B2sUrmtkU2l8hFkNvXwpKzzv",
     "timestamp": 1588684750953
    },
    {
     "file_id": "https://gist.github.com/ashutoshsingh0223/d6d673a942dd15546fc28e9fce875b51#file-embedding-as-service-ipynb",
     "timestamp": 1587330263068
    }
   ]
  },
  "kernelspec": {
   "display_name": "Python 3",
   "language": "python",
   "name": "python3"
  }
 },
 "nbformat": 4,
 "nbformat_minor": 1
}
