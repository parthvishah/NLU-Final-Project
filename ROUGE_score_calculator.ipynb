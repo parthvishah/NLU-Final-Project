{
  "nbformat": 4,
  "nbformat_minor": 0,
  "metadata": {
    "colab": {
      "name": "ROUGE_score_calculator.ipynb",
      "provenance": [],
      "collapsed_sections": []
    },
    "kernelspec": {
      "name": "python3",
      "display_name": "Python 3"
    }
  },
  "cells": [
    {
      "cell_type": "code",
      "metadata": {
        "id": "WfEFBXZvAbK3",
        "colab_type": "code",
        "colab": {
          "base_uri": "https://localhost:8080/",
          "height": 102
        },
        "outputId": "16ee043e-a756-4f58-a32c-ec97cb0f9560"
      },
      "source": [
        "!pip install rouge\n",
        "from rouge import Rouge "
      ],
      "execution_count": 1,
      "outputs": [
        {
          "output_type": "stream",
          "text": [
            "Collecting rouge\n",
            "  Downloading https://files.pythonhosted.org/packages/43/cc/e18e33be20971ff73a056ebdb023476b5a545e744e3fc22acd8c758f1e0d/rouge-1.0.0-py3-none-any.whl\n",
            "Requirement already satisfied: six in /usr/local/lib/python3.6/dist-packages (from rouge) (1.12.0)\n",
            "Installing collected packages: rouge\n",
            "Successfully installed rouge-1.0.0\n"
          ],
          "name": "stdout"
        }
      ]
    },
    {
      "cell_type": "code",
      "metadata": {
        "id": "JJqnU9LjAzIN",
        "colab_type": "code",
        "colab": {}
      },
      "source": [
        "import sys\n",
        "sys.setrecursionlimit(15000)"
      ],
      "execution_count": 0,
      "outputs": []
    },
    {
      "cell_type": "code",
      "metadata": {
        "id": "zyUqUDViBc3l",
        "colab_type": "code",
        "colab": {}
      },
      "source": [
        "import pandas as pd"
      ],
      "execution_count": 0,
      "outputs": []
    },
    {
      "cell_type": "code",
      "metadata": {
        "id": "oluhyd5_BGvc",
        "colab_type": "code",
        "colab": {
          "base_uri": "https://localhost:8080/",
          "height": 122
        },
        "outputId": "8011e616-9571-4972-af1c-1c64d0cd276f"
      },
      "source": [
        "from google.colab import drive\n",
        "drive.mount('/content/drive')"
      ],
      "execution_count": 3,
      "outputs": [
        {
          "output_type": "stream",
          "text": [
            "Go to this URL in a browser: https://accounts.google.com/o/oauth2/auth?client_id=947318989803-6bn6qk8qdgf4n4g3pfee6491hc0brc4i.apps.googleusercontent.com&redirect_uri=urn%3aietf%3awg%3aoauth%3a2.0%3aoob&response_type=code&scope=email%20https%3a%2f%2fwww.googleapis.com%2fauth%2fdocs.test%20https%3a%2f%2fwww.googleapis.com%2fauth%2fdrive%20https%3a%2f%2fwww.googleapis.com%2fauth%2fdrive.photos.readonly%20https%3a%2f%2fwww.googleapis.com%2fauth%2fpeopleapi.readonly\n",
            "\n",
            "Enter your authorization code:\n",
            "··········\n",
            "Mounted at /content/drive\n"
          ],
          "name": "stdout"
        }
      ]
    },
    {
      "cell_type": "code",
      "metadata": {
        "id": "h9Nz5g-dA0Tt",
        "colab_type": "code",
        "colab": {}
      },
      "source": [
        "data = pd.read_csv('/content/drive/My Drive/pfull_text.txt')\n",
        "data_hyps = pd.read_csv('/content/drive/My Drive/model_predictions.txt')"
      ],
      "execution_count": 0,
      "outputs": []
    },
    {
      "cell_type": "code",
      "metadata": {
        "id": "rTVofq5eArwo",
        "colab_type": "code",
        "colab": {}
      },
      "source": [
        "hyps = data_hyps['oracle']\n",
        "refs = data['text']\n",
        "rouge = Rouge()\n",
        "scores = rouge.get_scores(hyps, refs, avg=True)\n",
        "print(scores)"
      ],
      "execution_count": 0,
      "outputs": []
    },
    {
      "cell_type": "code",
      "metadata": {
        "id": "Weu-_16Yp52o",
        "colab_type": "code",
        "colab": {}
      },
      "source": [
        "hyps = data_hyps['gold']\n",
        "refs = data['text']\n",
        "rouge = Rouge()\n",
        "scores = rouge.get_scores(hyps, refs, avg=True)\n",
        "print(scores)"
      ],
      "execution_count": 0,
      "outputs": []
    },
    {
      "cell_type": "code",
      "metadata": {
        "id": "2bYqQrZ5AgW9",
        "colab_type": "code",
        "colab": {}
      },
      "source": [
        "hyps = data_hyps['lead']\n",
        "refs = data['text']\n",
        "rouge = Rouge()\n",
        "scores = rouge.get_scores(hyps, refs, avg=True)\n",
        "print(scores)"
      ],
      "execution_count": 0,
      "outputs": []
    },
    {
      "cell_type": "code",
      "metadata": {
        "id": "QIp7zwCfBg0r",
        "colab_type": "code",
        "colab": {
          "base_uri": "https://localhost:8080/",
          "height": 170
        },
        "outputId": "9ab8d856-c75e-474c-cafe-888738e13500"
      },
      "source": [
        "scoreshyps = data_hyps['convs2s']\n",
        "refs = data['text']\n",
        "rouge = Rouge()\n",
        "scores = rouge.get_scores(hyps, refs, avg=True)\n",
        "print(scores)"
      ],
      "execution_count": 10,
      "outputs": [
        {
          "output_type": "execute_result",
          "data": {
            "text/plain": [
              "{'rouge-1': {'f': 0.05604884526638604,\n",
              "  'p': 0.37793766330603457,\n",
              "  'r': 0.03257953463894991},\n",
              " 'rouge-2': {'f': 0.0046201542993716095,\n",
              "  'p': 0.039091481737943176,\n",
              "  'r': 0.002592478990316501},\n",
              " 'rouge-l': {'f': 0.06409551384670242,\n",
              "  'p': 0.3132453970743527,\n",
              "  'r': 0.03779617006573437}}"
            ]
          },
          "metadata": {
            "tags": []
          },
          "execution_count": 10
        }
      ]
    },
    {
      "cell_type": "code",
      "metadata": {
        "id": "uld3woPcB-j6",
        "colab_type": "code",
        "colab": {}
      },
      "source": [
        "hyps = data_hyps['topic_convs2s']\n",
        "refs = data['text']\n",
        "rouge = Rouge()\n",
        "scores = rouge.get_scores(hyps, refs, avg=True)\n",
        "print(scores)"
      ],
      "execution_count": 0,
      "outputs": []
    },
    {
      "cell_type": "code",
      "metadata": {
        "id": "dgNTKdQ_qCpo",
        "colab_type": "code",
        "colab": {}
      },
      "source": [
        "hyps = data_hyps['ptgen']\n",
        "refs = data['text']\n",
        "rouge = Rouge()\n",
        "scores = rouge.get_scores(hyps, refs, avg=True)\n",
        "print(scores)"
      ],
      "execution_count": 0,
      "outputs": []
    }
  ]
}