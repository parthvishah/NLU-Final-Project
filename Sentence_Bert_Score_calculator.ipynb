{
  "nbformat": 4,
  "nbformat_minor": 0,
  "metadata": {
    "colab": {
      "name": "Sentence_Bert_Score_calculator.ipynb",
      "provenance": [],
      "machine_shape": "hm"
    },
    "kernelspec": {
      "name": "python3",
      "display_name": "Python 3"
    }
  },
  "cells": [
    {
      "cell_type": "code",
      "metadata": {
        "id": "ZT3kr4CezYkg",
        "colab_type": "code",
        "outputId": "7578e53b-6471-4627-a9b2-4499531e3a60",
        "colab": {
          "base_uri": "https://localhost:8080/",
          "height": 122
        }
      },
      "source": [
        "from google.colab import drive\n",
        "drive.mount('/content/drive')"
      ],
      "execution_count": 0,
      "outputs": [
        {
          "output_type": "stream",
          "text": [
            "Go to this URL in a browser: https://accounts.google.com/o/oauth2/auth?client_id=947318989803-6bn6qk8qdgf4n4g3pfee6491hc0brc4i.apps.googleusercontent.com&redirect_uri=urn%3aietf%3awg%3aoauth%3a2.0%3aoob&response_type=code&scope=email%20https%3a%2f%2fwww.googleapis.com%2fauth%2fdocs.test%20https%3a%2f%2fwww.googleapis.com%2fauth%2fdrive%20https%3a%2f%2fwww.googleapis.com%2fauth%2fdrive.photos.readonly%20https%3a%2f%2fwww.googleapis.com%2fauth%2fpeopleapi.readonly\n",
            "\n",
            "Enter your authorization code:\n",
            "··········\n",
            "Mounted at /content/drive\n"
          ],
          "name": "stdout"
        }
      ]
    },
    {
      "cell_type": "code",
      "metadata": {
        "id": "Of4T_FM4zsl4",
        "colab_type": "code",
        "colab": {}
      },
      "source": [
        "import pandas as pd\n",
        "import numpy as np \n",
        "from sklearn.metrics.pairwise import cosine_similarity"
      ],
      "execution_count": 0,
      "outputs": []
    },
    {
      "cell_type": "code",
      "metadata": {
        "id": "QF8b_UOBHE9a",
        "colab_type": "code",
        "colab": {}
      },
      "source": [
        "def cosine_sim(z,praxal):\n",
        "  return np.sum(np.multiply(praxal,z),axis=1)/np.multiply(np.linalg.norm(z,axis=1),np.linalg.norm(praxal,axis=1))"
      ],
      "execution_count": 0,
      "outputs": []
    },
    {
      "cell_type": "code",
      "metadata": {
        "id": "mbinlshTz1fL",
        "colab_type": "code",
        "colab": {}
      },
      "source": [
        "full_text_emb = np.load('/content/drive/My Drive/Data/sentence-embeddings/full_text_sent_embeddings.csv.npy')"
      ],
      "execution_count": 0,
      "outputs": []
    },
    {
      "cell_type": "code",
      "metadata": {
        "id": "RBe9GWAazL3S",
        "colab_type": "code",
        "outputId": "3480944b-817d-4285-c546-4355e792dc9f",
        "colab": {
          "base_uri": "https://localhost:8080/",
          "height": 34
        }
      },
      "source": [
        "gold_emb = np.load('/content/drive/My Drive/Data/sentence-embeddings/gold_sent_embeddings.csv.npy')\n",
        "a = cosine_sim(gold_emb, full_text_emb)\n",
        "print (np.mean(a))"
      ],
      "execution_count": 0,
      "outputs": [
        {
          "output_type": "stream",
          "text": [
            "0.48500752\n"
          ],
          "name": "stdout"
        }
      ]
    },
    {
      "cell_type": "code",
      "metadata": {
        "id": "GVXXjoBS0Ann",
        "colab_type": "code",
        "outputId": "d0d129b8-1086-41ac-eb4d-6b4aee4dad6d",
        "colab": {
          "base_uri": "https://localhost:8080/",
          "height": 34
        }
      },
      "source": [
        "lead_emb  = np.load('/content/drive/My Drive/Data/sentence-embeddings/lead_sent_embeddings.csv.npy')\n",
        "\n",
        "a = cosine_sim(lead_emb, full_text_emb)\n",
        "print (np.mean(a))"
      ],
      "execution_count": 0,
      "outputs": [
        {
          "output_type": "stream",
          "text": [
            "0.44751462\n"
          ],
          "name": "stdout"
        }
      ]
    },
    {
      "cell_type": "code",
      "metadata": {
        "id": "6UJHGI8c0QCw",
        "colab_type": "code",
        "outputId": "62bb002a-d326-4db4-f692-e7e23815d759",
        "colab": {
          "base_uri": "https://localhost:8080/",
          "height": 34
        }
      },
      "source": [
        "oracle_emb = np.load('/content/drive/My Drive/Data/sentence-embeddings/oracle_sent_embeddings.csv.npy')\n",
        "a = cosine_sim(oracle_emb,full_text_emb)\n",
        "print (np.mean(a))"
      ],
      "execution_count": 0,
      "outputs": [
        {
          "output_type": "stream",
          "text": [
            "0.43796578\n"
          ],
          "name": "stdout"
        }
      ]
    },
    {
      "cell_type": "code",
      "metadata": {
        "id": "GGGqKCVQ0hQ-",
        "colab_type": "code",
        "outputId": "1d2c1cfb-3467-46ac-cc12-b865ec226101",
        "colab": {
          "base_uri": "https://localhost:8080/",
          "height": 34
        }
      },
      "source": [
        "topic_conv_emb = np.load('/content/drive/My Drive/Data/sentence-embeddings/topic_sent_embeddings.csv.npy')\n",
        "a = cosine_sim(topic_conv_emb,full_text_emb)\n",
        "print (np.mean(a))"
      ],
      "execution_count": 0,
      "outputs": [
        {
          "output_type": "stream",
          "text": [
            "0.44146976\n"
          ],
          "name": "stdout"
        }
      ]
    },
    {
      "cell_type": "code",
      "metadata": {
        "id": "gnU3-RNC02Ns",
        "colab_type": "code",
        "outputId": "a9546702-aa06-4e95-a71b-74cffa1ec637",
        "colab": {
          "base_uri": "https://localhost:8080/",
          "height": 34
        }
      },
      "source": [
        "pptgen_emb = np.load('/content/drive/My Drive/Data/sentence-embeddings/ptgen_sent_embeddings.csv.npy')\n",
        "\n",
        "a = cosine_sim(pptgen_emb,full_text_emb)\n",
        "print (np.mean(a))"
      ],
      "execution_count": 0,
      "outputs": [
        {
          "output_type": "stream",
          "text": [
            "0.46474588\n"
          ],
          "name": "stdout"
        }
      ]
    },
    {
      "cell_type": "code",
      "metadata": {
        "id": "BF96f04m1IOH",
        "colab_type": "code",
        "outputId": "be4d2257-32b4-45de-ed7e-5c81f961881d",
        "colab": {
          "base_uri": "https://localhost:8080/",
          "height": 34
        }
      },
      "source": [
        "conv_emb = np.load('/content/drive/My Drive/Data/sentence-embeddings/conv2s_std_sent_embeddings.csv.npy')\n",
        "\n",
        "a = cosine_sim(conv_emb,full_text_emb)\n",
        "print (np.mean(a))"
      ],
      "execution_count": 0,
      "outputs": [
        {
          "output_type": "stream",
          "text": [
            "0.43901289\n"
          ],
          "name": "stdout"
        }
      ]
    },
    {
      "cell_type": "code",
      "metadata": {
        "id": "xPi_yQ7y5I5L",
        "colab_type": "code",
        "colab": {}
      },
      "source": [
        ""
      ],
      "execution_count": 0,
      "outputs": []
    }
  ]
}